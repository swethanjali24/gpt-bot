{
  "nbformat": 4,
  "nbformat_minor": 0,
  "metadata": {
    "colab": {
      "provenance": [],
      "authorship_tag": "ABX9TyOY7TeFB1jYolXC5n25GDJS",
      "include_colab_link": true
    },
    "kernelspec": {
      "name": "python3",
      "display_name": "Python 3"
    },
    "language_info": {
      "name": "python"
    }
  },
  "cells": [
    {
      "cell_type": "markdown",
      "metadata": {
        "id": "view-in-github",
        "colab_type": "text"
      },
      "source": [
        "<a href=\"https://colab.research.google.com/github/swethanjali24/gpt-bot/blob/main/Assignment1.ipynb\" target=\"_parent\"><img src=\"https://colab.research.google.com/assets/colab-badge.svg\" alt=\"Open In Colab\"/></a>"
      ]
    },
    {
      "cell_type": "code",
      "execution_count": null,
      "metadata": {
        "colab": {
          "base_uri": "https://localhost:8080/"
        },
        "id": "8tIKA-4R3www",
        "outputId": "37d4e683-d42a-46ab-a1c4-1a796962bb81"
      },
      "outputs": [
        {
          "output_type": "stream",
          "name": "stdout",
          "text": [
            "a: 10 type: <class 'int'>\n",
            "b: 10.2 type: <class 'float'>\n",
            "c: First Assignment type: <class 'str'>\n",
            "Able_to_do_first_Assignment: True type: <class 'bool'>\n"
          ]
        }
      ],
      "source": [
        "# 1) Basic Operations\"\n",
        "a=10\n",
        "b=10.2\n",
        "c='First Assignment'\n",
        "Able_to_do_first_Assignment=True\n",
        "print('a:',a, 'type:',type(a))\n",
        "print('b:',b, 'type:',type(b))\n",
        "print('c:',c, 'type:',type(c))\n",
        "print('Able_to_do_first_Assignment:',Able_to_do_first_Assignment, 'type:',type(Able_to_do_first_Assignment))\n",
        "\n",
        "\n"
      ]
    },
    {
      "cell_type": "code",
      "source": [
        "\n",
        "# 2) List operations\n",
        "\n",
        "a=[1,2,3,4,5,6,7,8,9,10]\n",
        "print('a:',a, 'type:',type(a))\n",
        "a.append(11)\n",
        "print(a)\n",
        "a.remove(3)\n",
        "print(a)\n",
        "del a[1:2]\n",
        "print(a)\n",
        "a.pop(2)\n",
        "slice=a[2:5]\n",
        "print(slice)\n",
        "a=[1,2,3,4,5,6,7,8,9,10]\n",
        "def even(x):\n",
        " if (x%2==0):\n",
        "  return x\n",
        "even_numbers=list(filter(even,a))\n",
        "print(even_numbers)\n"
      ],
      "metadata": {
        "colab": {
          "base_uri": "https://localhost:8080/"
        },
        "id": "GzIXrKnn4JLp",
        "outputId": "91fa9a59-524e-451a-e9cd-1d07c2aaa243"
      },
      "execution_count": null,
      "outputs": [
        {
          "output_type": "stream",
          "name": "stdout",
          "text": [
            "a: [1, 2, 3, 4, 5, 6, 7, 8, 9, 10] type: <class 'list'>\n",
            "[1, 2, 3, 4, 5, 6, 7, 8, 9, 10, 11]\n",
            "[1, 2, 4, 5, 6, 7, 8, 9, 10, 11]\n",
            "[1, 4, 5, 6, 7, 8, 9, 10, 11]\n",
            "[6, 7, 8]\n",
            "[2, 4, 6, 8, 10]\n"
          ]
        }
      ]
    },
    {
      "cell_type": "code",
      "source": [
        "#Tuple operations\n",
        "a=(1,2,3,4,5,6,7,8,9,10)\n",
        "print('a:',a, 'type:',type(a))\n",
        "a[0]=1\n",
        "print(a)\n",
        "x,*y,z = a\n",
        "print(x)\n",
        "print(y)\n",
        "print(z)\n"
      ],
      "metadata": {
        "id": "s06c3qtA4JOt",
        "colab": {
          "base_uri": "https://localhost:8080/",
          "height": 224
        },
        "outputId": "8e98364e-4613-48b0-e854-5226033279d0"
      },
      "execution_count": null,
      "outputs": [
        {
          "output_type": "stream",
          "name": "stdout",
          "text": [
            "a: (1, 2, 3, 4, 5, 6, 7, 8, 9, 10) type: <class 'tuple'>\n"
          ]
        },
        {
          "output_type": "error",
          "ename": "TypeError",
          "evalue": "'tuple' object does not support item assignment",
          "traceback": [
            "\u001b[0;31m---------------------------------------------------------------------------\u001b[0m",
            "\u001b[0;31mTypeError\u001b[0m                                 Traceback (most recent call last)",
            "\u001b[0;32m<ipython-input-29-a9b72ed88ac5>\u001b[0m in \u001b[0;36m<cell line: 0>\u001b[0;34m()\u001b[0m\n\u001b[1;32m      2\u001b[0m \u001b[0ma\u001b[0m\u001b[0;34m=\u001b[0m\u001b[0;34m(\u001b[0m\u001b[0;36m1\u001b[0m\u001b[0;34m,\u001b[0m\u001b[0;36m2\u001b[0m\u001b[0;34m,\u001b[0m\u001b[0;36m3\u001b[0m\u001b[0;34m,\u001b[0m\u001b[0;36m4\u001b[0m\u001b[0;34m,\u001b[0m\u001b[0;36m5\u001b[0m\u001b[0;34m,\u001b[0m\u001b[0;36m6\u001b[0m\u001b[0;34m,\u001b[0m\u001b[0;36m7\u001b[0m\u001b[0;34m,\u001b[0m\u001b[0;36m8\u001b[0m\u001b[0;34m,\u001b[0m\u001b[0;36m9\u001b[0m\u001b[0;34m,\u001b[0m\u001b[0;36m10\u001b[0m\u001b[0;34m)\u001b[0m\u001b[0;34m\u001b[0m\u001b[0;34m\u001b[0m\u001b[0m\n\u001b[1;32m      3\u001b[0m \u001b[0mprint\u001b[0m\u001b[0;34m(\u001b[0m\u001b[0;34m'a:'\u001b[0m\u001b[0;34m,\u001b[0m\u001b[0ma\u001b[0m\u001b[0;34m,\u001b[0m \u001b[0;34m'type:'\u001b[0m\u001b[0;34m,\u001b[0m\u001b[0mtype\u001b[0m\u001b[0;34m(\u001b[0m\u001b[0ma\u001b[0m\u001b[0;34m)\u001b[0m\u001b[0;34m)\u001b[0m\u001b[0;34m\u001b[0m\u001b[0;34m\u001b[0m\u001b[0m\n\u001b[0;32m----> 4\u001b[0;31m \u001b[0ma\u001b[0m\u001b[0;34m[\u001b[0m\u001b[0;36m0\u001b[0m\u001b[0;34m]\u001b[0m\u001b[0;34m=\u001b[0m\u001b[0;36m1\u001b[0m\u001b[0;34m\u001b[0m\u001b[0;34m\u001b[0m\u001b[0m\n\u001b[0m\u001b[1;32m      5\u001b[0m \u001b[0mprint\u001b[0m\u001b[0;34m(\u001b[0m\u001b[0ma\u001b[0m\u001b[0;34m)\u001b[0m\u001b[0;34m\u001b[0m\u001b[0;34m\u001b[0m\u001b[0m\n\u001b[1;32m      6\u001b[0m \u001b[0mx\u001b[0m\u001b[0;34m,\u001b[0m\u001b[0;34m*\u001b[0m\u001b[0my\u001b[0m\u001b[0;34m,\u001b[0m\u001b[0mz\u001b[0m \u001b[0;34m=\u001b[0m \u001b[0ma\u001b[0m\u001b[0;34m\u001b[0m\u001b[0;34m\u001b[0m\u001b[0m\n",
            "\u001b[0;31mTypeError\u001b[0m: 'tuple' object does not support item assignment"
          ]
        }
      ]
    },
    {
      "cell_type": "code",
      "source": [
        "a=(1,2,3,4,5,6,7,8,9,10)\n",
        "print('a:',a, 'type:',type(a))\n",
        "x,*y,z = a\n",
        "print(x)\n",
        "print(y)\n",
        "print(z)"
      ],
      "metadata": {
        "id": "_KnNre3m4JbT",
        "colab": {
          "base_uri": "https://localhost:8080/"
        },
        "outputId": "6c17e712-d164-43d7-e0c9-a1bd3cf51344"
      },
      "execution_count": null,
      "outputs": [
        {
          "output_type": "stream",
          "name": "stdout",
          "text": [
            "a: (1, 2, 3, 4, 5, 6, 7, 8, 9, 10) type: <class 'tuple'>\n",
            "1\n",
            "[2, 3, 4, 5, 6, 7, 8, 9]\n",
            "10\n"
          ]
        }
      ]
    },
    {
      "cell_type": "code",
      "source": [
        "#dictionaries\n",
        "d1 = {\n",
        "    1 : 'List',\n",
        "    2 : 'Tuples',\n",
        "    3 : 'Set',\n",
        "    4 : 'Dictionary'\n",
        "}\n",
        "print('Dictionary :', d1)\n",
        "print('Type :', type(d1))\n",
        "print('Keys :', d1.keys())\n",
        "print('Values :', d1.values())\n",
        "d1[5] = 'String'\n",
        "print(d1)\n",
        "d1[1] = 'Integer'\n",
        "print(d1)\n",
        "del d1[3]\n",
        "print(d1)\n",
        "key,value=d1.popitem()\n",
        "print(key)\n",
        "print(value)\n",
        "print(d1)\n",
        "for key,value in d1.items():\n",
        "    print(f'{key}:{value}')"
      ],
      "metadata": {
        "id": "VkQ2wecB4Jii",
        "colab": {
          "base_uri": "https://localhost:8080/"
        },
        "outputId": "0f02931c-664b-49e4-fd7f-b9c9a2a189c6"
      },
      "execution_count": null,
      "outputs": [
        {
          "output_type": "stream",
          "name": "stdout",
          "text": [
            "Dictionary : {1: 'List', 2: 'Tuples', 3: 'Set', 4: 'Dictionary'}\n",
            "Type : <class 'dict'>\n",
            "Keys : dict_keys([1, 2, 3, 4])\n",
            "Values : dict_values(['List', 'Tuples', 'Set', 'Dictionary'])\n",
            "{1: 'List', 2: 'Tuples', 3: 'Set', 4: 'Dictionary', 5: 'String'}\n",
            "{1: 'Integer', 2: 'Tuples', 3: 'Set', 4: 'Dictionary', 5: 'String'}\n",
            "{1: 'Integer', 2: 'Tuples', 4: 'Dictionary', 5: 'String'}\n",
            "5\n",
            "String\n",
            "{1: 'Integer', 2: 'Tuples', 4: 'Dictionary'}\n",
            "1:Integer\n",
            "2:Tuples\n",
            "4:Dictionary\n"
          ]
        }
      ]
    },
    {
      "cell_type": "code",
      "source": [
        "#Sets\n",
        "a=set([1,2,3,4,5,6,7,8,9,10])\n",
        "print('a:',a, 'type:',type(a))\n",
        "b={1,2,3,4}\n",
        "print('b:',b, 'type:',type(b))\n",
        "c=a.union(b)\n",
        "print(c)\n",
        "d=a.intersection(b)\n",
        "print(d)\n",
        "e=a.difference(b)\n",
        "print(e)\n",
        "x={1,1,2,22,2}\n",
        "print(x)\n",
        "\n"
      ],
      "metadata": {
        "id": "H8Bk2Hz84JmJ",
        "colab": {
          "base_uri": "https://localhost:8080/"
        },
        "outputId": "aed06c2c-7ec7-4ce4-ad19-dffa64fad7b8"
      },
      "execution_count": null,
      "outputs": [
        {
          "output_type": "stream",
          "name": "stdout",
          "text": [
            "a: {1, 2, 3, 4, 5, 6, 7, 8, 9, 10} type: <class 'set'>\n",
            "b: {1, 2, 3, 4} type: <class 'set'>\n",
            "{1, 2, 3, 4, 5, 6, 7, 8, 9, 10}\n",
            "{1, 2, 3, 4}\n",
            "{5, 6, 7, 8, 9, 10}\n",
            "{1, 2, 22}\n"
          ]
        }
      ]
    },
    {
      "cell_type": "code",
      "source": [
        "#conditional statements\n",
        "a=10\n",
        "if a>5:\n",
        "  print('a is greater than 5')\n",
        "else:\n",
        "  print('a is less than 5')\n",
        "b=10\n",
        "if b>5:\n",
        "  print('b is greater than 5')\n",
        "elif b<5:\n",
        "  print('b is less than 5')\n",
        "else:\n",
        "  print('b is equal to 5')"
      ],
      "metadata": {
        "id": "Tx_scfrY4Jph",
        "colab": {
          "base_uri": "https://localhost:8080/"
        },
        "outputId": "b4742ced-6b9e-42ce-ed5f-2295dac84186"
      },
      "execution_count": null,
      "outputs": [
        {
          "output_type": "stream",
          "name": "stdout",
          "text": [
            "a is greater than 5\n",
            "b is greater than 5\n"
          ]
        }
      ]
    },
    {
      "cell_type": "code",
      "source": [
        "#Loops in data structures\n",
        "q=[1,2,3,4,]\n",
        "for i in q:\n",
        "  print(i)\n",
        "a=(1,2,3,4)\n",
        "for i in a:\n",
        "  print(i)\n",
        "b={1,2,3,4}\n",
        "for i in b:\n",
        "  print(i)\n",
        "d1 = {\n",
        "    1 : 'List',\n",
        "    2 : 'Tuples',\n",
        "    3 : 'Set',\n",
        "    4 : 'Dictionary'\n",
        "}\n",
        "for key,value in d1.items():\n",
        "  print(f'{key}:{value}')\n",
        "\n",
        "q=[1,2,3,4]\n",
        "i=1\n",
        "while i<=max(q):\n",
        "  i+=1\n",
        "  if i==3:\n",
        "   continue\n",
        "  print(i)"
      ],
      "metadata": {
        "id": "wc9Ou4_u4Jsq",
        "colab": {
          "base_uri": "https://localhost:8080/"
        },
        "outputId": "7218c678-230b-40a7-9a95-6a22cea000da"
      },
      "execution_count": null,
      "outputs": [
        {
          "output_type": "stream",
          "name": "stdout",
          "text": [
            "1\n",
            "2\n",
            "3\n",
            "4\n",
            "1\n",
            "2\n",
            "3\n",
            "4\n",
            "1\n",
            "2\n",
            "3\n",
            "4\n",
            "1:List\n",
            "2:Tuples\n",
            "3:Set\n",
            "4:Dictionary\n",
            "2\n",
            "4\n",
            "5\n"
          ]
        }
      ]
    },
    {
      "cell_type": "code",
      "source": [
        "#problem solving tasks\n",
        "#P1.program to find the largest number in the list\n",
        "\n",
        "a=[1,2,3,4,5,6,7,8,9,10]\n",
        "for i in a:\n",
        "  if i==max(a):\n",
        "   print(i)"
      ],
      "metadata": {
        "colab": {
          "base_uri": "https://localhost:8080/"
        },
        "id": "_X5i45wbnIGP",
        "outputId": "f97bb310-498e-4c12-cf74-6f61fe29b5f4"
      },
      "execution_count": null,
      "outputs": [
        {
          "output_type": "stream",
          "name": "stdout",
          "text": [
            "10\n"
          ]
        }
      ]
    },
    {
      "cell_type": "code",
      "source": [
        "a=[1,2,3,4,5,6,7,8,9,10]\n",
        "b=max(a)\n",
        "print(b)"
      ],
      "metadata": {
        "colab": {
          "base_uri": "https://localhost:8080/"
        },
        "id": "jElsJTusnIBv",
        "outputId": "8a731877-841a-44dd-a4ee-66e4dfc23767"
      },
      "execution_count": null,
      "outputs": [
        {
          "output_type": "stream",
          "name": "stdout",
          "text": [
            "10\n"
          ]
        }
      ]
    },
    {
      "source": [
        "a=[1,2,3,4,5,6,7,8,9,10]\n",
        "print(max(a))"
      ],
      "cell_type": "code",
      "metadata": {
        "colab": {
          "base_uri": "https://localhost:8080/"
        },
        "id": "OmzEyJjCnkty",
        "outputId": "14346fb4-d005-49b8-b285-ffb0a5be56df"
      },
      "execution_count": null,
      "outputs": [
        {
          "output_type": "stream",
          "name": "stdout",
          "text": [
            "10\n"
          ]
        }
      ]
    },
    {
      "cell_type": "code",
      "source": [
        "#Program to find the frequency of elements in the list\n",
        "a=[1,2,3,4,5,6,7,8,9,10,1,2,3,4,5,6,7,8,9,10]\n",
        "frequency={}\n",
        "for i in a:\n",
        "  if i in frequency:\n",
        "    frequency[i]+=1\n",
        "  else:\n",
        "    frequency[i]=1\n",
        "for key,value in frequency.items():\n",
        "  print(f'{key}:{value}')\n"
      ],
      "metadata": {
        "colab": {
          "base_uri": "https://localhost:8080/"
        },
        "id": "INRwjDBanH27",
        "outputId": "68d1fdd6-46da-4040-c213-f06483683ae2"
      },
      "execution_count": null,
      "outputs": [
        {
          "output_type": "stream",
          "name": "stdout",
          "text": [
            "1:2\n",
            "2:2\n",
            "3:2\n",
            "4:2\n",
            "5:2\n",
            "6:2\n",
            "7:2\n",
            "8:2\n",
            "9:2\n",
            "10:2\n"
          ]
        }
      ]
    },
    {
      "cell_type": "code",
      "source": [
        "#student with highest marks\n",
        "Class_x={'Arpit':84,'priyansh':90,'sheik':92,'swetha':99}\n",
        "for key,value in Class_x.items():\n",
        "  if value==max(Class_x.values()):\n",
        "    print(f'{key}:{value}')\n"
      ],
      "metadata": {
        "colab": {
          "base_uri": "https://localhost:8080/"
        },
        "id": "sBUwz01hnHpg",
        "outputId": "8dc85383-08af-4cba-f152-9a2baf01187e"
      },
      "execution_count": null,
      "outputs": [
        {
          "output_type": "stream",
          "name": "stdout",
          "text": [
            "swetha:99\n"
          ]
        }
      ]
    },
    {
      "cell_type": "code",
      "source": [
        "#fibonnaci series upto 20\n",
        "x=0\n",
        "y=1\n",
        "while x<20:\n",
        "  print(x)\n",
        "  z=x+y\n",
        "  x=y\n",
        "  y=z\n",
        "\n",
        "\n",
        "\n"
      ],
      "metadata": {
        "colab": {
          "base_uri": "https://localhost:8080/"
        },
        "id": "LMkGoLvenHmq",
        "outputId": "ad9d700a-491b-4c60-b5ac-bcedbdaad0c2"
      },
      "execution_count": null,
      "outputs": [
        {
          "output_type": "stream",
          "name": "stdout",
          "text": [
            "0\n",
            "1\n",
            "1\n",
            "2\n",
            "3\n",
            "5\n",
            "8\n",
            "13\n"
          ]
        }
      ]
    },
    {
      "cell_type": "code",
      "source": [
        "# to remove duplicate elements from the list\n",
        "a=[1,2,3,4,5,6,7,8,9,10,1,2,3,4,5,6,7,8,9,10]\n",
        "b=set(a)\n",
        "print(b)\n",
        "c=list(b)\n",
        "print(c)\n"
      ],
      "metadata": {
        "colab": {
          "base_uri": "https://localhost:8080/"
        },
        "id": "GaOn2gtDnHjS",
        "outputId": "f56a851f-7fe4-4c9a-ae07-53fcab08d836"
      },
      "execution_count": null,
      "outputs": [
        {
          "output_type": "stream",
          "name": "stdout",
          "text": [
            "{1, 2, 3, 4, 5, 6, 7, 8, 9, 10}\n",
            "[1, 2, 3, 4, 5, 6, 7, 8, 9, 10]\n"
          ]
        }
      ]
    },
    {
      "cell_type": "code",
      "source": [],
      "metadata": {
        "id": "8l_nvlGFnHf3"
      },
      "execution_count": null,
      "outputs": []
    },
    {
      "cell_type": "code",
      "source": [],
      "metadata": {
        "id": "7hJscwCFnHcQ"
      },
      "execution_count": null,
      "outputs": []
    },
    {
      "cell_type": "code",
      "source": [],
      "metadata": {
        "id": "_HLaQ3WJnHUN"
      },
      "execution_count": null,
      "outputs": []
    },
    {
      "cell_type": "code",
      "source": [],
      "metadata": {
        "id": "zffa4uHBnHLS"
      },
      "execution_count": null,
      "outputs": []
    },
    {
      "cell_type": "code",
      "source": [],
      "metadata": {
        "id": "GvTC-7gunHI9"
      },
      "execution_count": null,
      "outputs": []
    },
    {
      "cell_type": "code",
      "source": [],
      "metadata": {
        "id": "Fi338g10nHF0"
      },
      "execution_count": null,
      "outputs": []
    },
    {
      "cell_type": "code",
      "source": [],
      "metadata": {
        "id": "PXG6j92KnHC-"
      },
      "execution_count": null,
      "outputs": []
    },
    {
      "cell_type": "code",
      "source": [],
      "metadata": {
        "id": "nyv3WRhH4Jzt"
      },
      "execution_count": null,
      "outputs": []
    }
  ]
}